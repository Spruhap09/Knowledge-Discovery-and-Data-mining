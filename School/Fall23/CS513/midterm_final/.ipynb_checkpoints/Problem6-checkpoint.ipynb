{
 "cells": [
  {
   "cell_type": "code",
   "execution_count": 167,
   "id": "a99abe6d-e299-4e10-8947-37b397264af9",
   "metadata": {},
   "outputs": [],
   "source": [
    "#################################################\n",
    "#  Company    : Stevens Institute of Technology\n",
    "#  Project    : Midterm\n",
    "#  Purpose    : To use the Gaussian NB methodology\n",
    "#  First Name : Spruha\n",
    "#  Last Name  : Paradkar\n",
    "#  Id\t\t  : 10470967\n",
    "#  Date       : 11/07/2023\n",
    "#  Comments   : I pledge my honor that I have abided by the Stevens Honor System\n",
    "#################################################"
   ]
  },
  {
   "cell_type": "code",
   "execution_count": 168,
   "id": "a430a345-d32b-4ce8-b8df-db8124a4b02d",
   "metadata": {},
   "outputs": [
    {
     "name": "stdout",
     "output_type": "stream",
     "text": [
      "BTW, there is a typo - Smoker is Somker, I am not changing it\n"
     ]
    }
   ],
   "source": [
    "print('BTW, there is a typo - Smoker is Somker, I am not changing it')\n",
    "import numpy as np\n",
    "import pandas as pd\n",
    "from sklearn.model_selection import train_test_split\n",
    "from sklearn.naive_bayes import CategoricalNB"
   ]
  },
  {
   "cell_type": "code",
   "execution_count": 169,
   "id": "c89b7643-c28e-4f75-96d6-68acc580a8a0",
   "metadata": {},
   "outputs": [
    {
     "name": "stdout",
     "output_type": "stream",
     "text": [
      "Loading the bp dataset\n"
     ]
    },
    {
     "data": {
      "text/html": [
       "<div>\n",
       "<style scoped>\n",
       "    .dataframe tbody tr th:only-of-type {\n",
       "        vertical-align: middle;\n",
       "    }\n",
       "\n",
       "    .dataframe tbody tr th {\n",
       "        vertical-align: top;\n",
       "    }\n",
       "\n",
       "    .dataframe thead th {\n",
       "        text-align: right;\n",
       "    }\n",
       "</style>\n",
       "<table border=\"1\" class=\"dataframe\">\n",
       "  <thead>\n",
       "    <tr style=\"text-align: right;\">\n",
       "      <th></th>\n",
       "      <th>Somker</th>\n",
       "      <th>Gender</th>\n",
       "      <th>Age</th>\n",
       "      <th>Height</th>\n",
       "      <th>Weight</th>\n",
       "      <th>BP_Status</th>\n",
       "    </tr>\n",
       "  </thead>\n",
       "  <tbody>\n",
       "    <tr>\n",
       "      <th>0</th>\n",
       "      <td>1- Non-smoker</td>\n",
       "      <td>Female</td>\n",
       "      <td>29</td>\n",
       "      <td>62.50</td>\n",
       "      <td>140</td>\n",
       "      <td>Normal</td>\n",
       "    </tr>\n",
       "    <tr>\n",
       "      <th>1</th>\n",
       "      <td>1- Non-smoker</td>\n",
       "      <td>Female</td>\n",
       "      <td>41</td>\n",
       "      <td>59.75</td>\n",
       "      <td>194</td>\n",
       "      <td>High</td>\n",
       "    </tr>\n",
       "    <tr>\n",
       "      <th>2</th>\n",
       "      <td>3- Moderate</td>\n",
       "      <td>Female</td>\n",
       "      <td>57</td>\n",
       "      <td>62.25</td>\n",
       "      <td>132</td>\n",
       "      <td>High</td>\n",
       "    </tr>\n",
       "    <tr>\n",
       "      <th>3</th>\n",
       "      <td>1- Non-smoker</td>\n",
       "      <td>Female</td>\n",
       "      <td>39</td>\n",
       "      <td>65.75</td>\n",
       "      <td>158</td>\n",
       "      <td>Normal</td>\n",
       "    </tr>\n",
       "    <tr>\n",
       "      <th>4</th>\n",
       "      <td>1- Non-smoker</td>\n",
       "      <td>Female</td>\n",
       "      <td>58</td>\n",
       "      <td>61.75</td>\n",
       "      <td>131</td>\n",
       "      <td>High</td>\n",
       "    </tr>\n",
       "    <tr>\n",
       "      <th>5</th>\n",
       "      <td>3- Moderate</td>\n",
       "      <td>Female</td>\n",
       "      <td>36</td>\n",
       "      <td>64.75</td>\n",
       "      <td>136</td>\n",
       "      <td>Normal</td>\n",
       "    </tr>\n",
       "    <tr>\n",
       "      <th>6</th>\n",
       "      <td>1- Non-smoker</td>\n",
       "      <td>Male</td>\n",
       "      <td>53</td>\n",
       "      <td>65.50</td>\n",
       "      <td>130</td>\n",
       "      <td>Normal</td>\n",
       "    </tr>\n",
       "    <tr>\n",
       "      <th>7</th>\n",
       "      <td>1- Non-smoker</td>\n",
       "      <td>Male</td>\n",
       "      <td>35</td>\n",
       "      <td>71.00</td>\n",
       "      <td>194</td>\n",
       "      <td>Normal</td>\n",
       "    </tr>\n",
       "    <tr>\n",
       "      <th>8</th>\n",
       "      <td>2- Light</td>\n",
       "      <td>Male</td>\n",
       "      <td>52</td>\n",
       "      <td>62.50</td>\n",
       "      <td>129</td>\n",
       "      <td>Normal</td>\n",
       "    </tr>\n",
       "    <tr>\n",
       "      <th>9</th>\n",
       "      <td>5- Very Heavy</td>\n",
       "      <td>Male</td>\n",
       "      <td>39</td>\n",
       "      <td>66.25</td>\n",
       "      <td>179</td>\n",
       "      <td>Normal</td>\n",
       "    </tr>\n",
       "  </tbody>\n",
       "</table>\n",
       "</div>"
      ],
      "text/plain": [
       "          Somker  Gender  Age  Height  Weight BP_Status\n",
       "0  1- Non-smoker  Female   29   62.50     140    Normal\n",
       "1  1- Non-smoker  Female   41   59.75     194      High\n",
       "2    3- Moderate  Female   57   62.25     132      High\n",
       "3  1- Non-smoker  Female   39   65.75     158    Normal\n",
       "4  1- Non-smoker  Female   58   61.75     131      High\n",
       "5    3- Moderate  Female   36   64.75     136    Normal\n",
       "6  1- Non-smoker    Male   53   65.50     130    Normal\n",
       "7  1- Non-smoker    Male   35   71.00     194    Normal\n",
       "8       2- Light    Male   52   62.50     129    Normal\n",
       "9  5- Very Heavy    Male   39   66.25     179    Normal"
      ]
     },
     "execution_count": 169,
     "metadata": {},
     "output_type": "execute_result"
    }
   ],
   "source": [
    "print('Loading the bp dataset')\n",
    "bp = pd.read_csv('/Users/spruhap/Desktop/School/Fall23/CS513/midterm/BP.csv')\n",
    "bp.head(10)"
   ]
  },
  {
   "cell_type": "code",
   "execution_count": 170,
   "id": "ddee4940-3e6b-4bb4-a7bc-1e3aebb72fc8",
   "metadata": {},
   "outputs": [
    {
     "name": "stdout",
     "output_type": "stream",
     "text": [
      "Replacing the string values for Smoker and Gender with int values\n"
     ]
    }
   ],
   "source": [
    "print('Replacing the string values for Smoker and Gender with int values')\n",
    "# bp['Somker'] = bp['Somker'].replace('1- Non-smoker', 1)\n",
    "# bp['Somker'] = bp['Somker'].replace('2- Light', 2)\n",
    "# bp['Somker'] = bp['Somker'].replace('3- Moderate', 3)\n",
    "# bp['Somker'] = bp['Somker'].replace('4- Heavy', 4)\n",
    "# bp['Somker'] = bp['Somker'].replace('5- Very Heavy', 5)\n",
    "# bp['Gender'] = bp['Gender'].replace('Female', 0)\n",
    "# bp['Gender'] = bp['Gender'].replace('Male', 1)\n",
    "bp = bp.astype('category')\n",
    "bp['Somker'] = bp['Somker'].cat.codes\n",
    "bp['Gender'] = bp['Gender'].map({'Male': 1, 'Female': 0})"
   ]
  },
  {
   "cell_type": "code",
   "execution_count": 171,
   "id": "892bb642-b89b-42b6-aa83-003996d6c65c",
   "metadata": {},
   "outputs": [
    {
     "name": "stdout",
     "output_type": "stream",
     "text": [
      "Creating a data frame called target for the BP_Status variable\n"
     ]
    },
    {
     "data": {
      "text/plain": [
       "0    Normal\n",
       "1      High\n",
       "2      High\n",
       "3    Normal\n",
       "4      High\n",
       "5    Normal\n",
       "6    Normal\n",
       "7    Normal\n",
       "8    Normal\n",
       "9    Normal\n",
       "Name: BP_Status, dtype: category\n",
       "Categories (2, object): ['High', 'Normal']"
      ]
     },
     "execution_count": 171,
     "metadata": {},
     "output_type": "execute_result"
    }
   ],
   "source": [
    "print('Creating a data frame called target for the BP_Status variable')\n",
    "target = bp['BP_Status'] # target variable\n",
    "target.head(10)"
   ]
  },
  {
   "cell_type": "code",
   "execution_count": 172,
   "id": "8f589c27-d8e7-4a69-bbaf-8e9ac45b2170",
   "metadata": {},
   "outputs": [
    {
     "name": "stdout",
     "output_type": "stream",
     "text": [
      "Dropping the BP_Status field\n"
     ]
    },
    {
     "data": {
      "text/html": [
       "<div>\n",
       "<style scoped>\n",
       "    .dataframe tbody tr th:only-of-type {\n",
       "        vertical-align: middle;\n",
       "    }\n",
       "\n",
       "    .dataframe tbody tr th {\n",
       "        vertical-align: top;\n",
       "    }\n",
       "\n",
       "    .dataframe thead th {\n",
       "        text-align: right;\n",
       "    }\n",
       "</style>\n",
       "<table border=\"1\" class=\"dataframe\">\n",
       "  <thead>\n",
       "    <tr style=\"text-align: right;\">\n",
       "      <th></th>\n",
       "      <th>Somker</th>\n",
       "      <th>Gender</th>\n",
       "      <th>Age</th>\n",
       "      <th>Height</th>\n",
       "      <th>Weight</th>\n",
       "    </tr>\n",
       "  </thead>\n",
       "  <tbody>\n",
       "    <tr>\n",
       "      <th>0</th>\n",
       "      <td>0</td>\n",
       "      <td>0</td>\n",
       "      <td>29</td>\n",
       "      <td>62.50</td>\n",
       "      <td>140</td>\n",
       "    </tr>\n",
       "    <tr>\n",
       "      <th>1</th>\n",
       "      <td>0</td>\n",
       "      <td>0</td>\n",
       "      <td>41</td>\n",
       "      <td>59.75</td>\n",
       "      <td>194</td>\n",
       "    </tr>\n",
       "    <tr>\n",
       "      <th>2</th>\n",
       "      <td>2</td>\n",
       "      <td>0</td>\n",
       "      <td>57</td>\n",
       "      <td>62.25</td>\n",
       "      <td>132</td>\n",
       "    </tr>\n",
       "    <tr>\n",
       "      <th>3</th>\n",
       "      <td>0</td>\n",
       "      <td>0</td>\n",
       "      <td>39</td>\n",
       "      <td>65.75</td>\n",
       "      <td>158</td>\n",
       "    </tr>\n",
       "    <tr>\n",
       "      <th>4</th>\n",
       "      <td>0</td>\n",
       "      <td>0</td>\n",
       "      <td>58</td>\n",
       "      <td>61.75</td>\n",
       "      <td>131</td>\n",
       "    </tr>\n",
       "    <tr>\n",
       "      <th>5</th>\n",
       "      <td>2</td>\n",
       "      <td>0</td>\n",
       "      <td>36</td>\n",
       "      <td>64.75</td>\n",
       "      <td>136</td>\n",
       "    </tr>\n",
       "    <tr>\n",
       "      <th>6</th>\n",
       "      <td>0</td>\n",
       "      <td>1</td>\n",
       "      <td>53</td>\n",
       "      <td>65.50</td>\n",
       "      <td>130</td>\n",
       "    </tr>\n",
       "    <tr>\n",
       "      <th>7</th>\n",
       "      <td>0</td>\n",
       "      <td>1</td>\n",
       "      <td>35</td>\n",
       "      <td>71.00</td>\n",
       "      <td>194</td>\n",
       "    </tr>\n",
       "    <tr>\n",
       "      <th>8</th>\n",
       "      <td>1</td>\n",
       "      <td>1</td>\n",
       "      <td>52</td>\n",
       "      <td>62.50</td>\n",
       "      <td>129</td>\n",
       "    </tr>\n",
       "    <tr>\n",
       "      <th>9</th>\n",
       "      <td>4</td>\n",
       "      <td>1</td>\n",
       "      <td>39</td>\n",
       "      <td>66.25</td>\n",
       "      <td>179</td>\n",
       "    </tr>\n",
       "  </tbody>\n",
       "</table>\n",
       "</div>"
      ],
      "text/plain": [
       "   Somker Gender Age Height Weight\n",
       "0       0      0  29  62.50    140\n",
       "1       0      0  41  59.75    194\n",
       "2       2      0  57  62.25    132\n",
       "3       0      0  39  65.75    158\n",
       "4       0      0  58  61.75    131\n",
       "5       2      0  36  64.75    136\n",
       "6       0      1  53  65.50    130\n",
       "7       0      1  35  71.00    194\n",
       "8       1      1  52  62.50    129\n",
       "9       4      1  39  66.25    179"
      ]
     },
     "execution_count": 172,
     "metadata": {},
     "output_type": "execute_result"
    }
   ],
   "source": [
    "print('Dropping the BP_Status field')\n",
    "# Splitting the dataset\n",
    "attributes = bp.drop('BP_Status', axis=1)\n",
    "attributes.head(10)"
   ]
  },
  {
   "cell_type": "code",
   "execution_count": 173,
   "id": "f4b85073-8e9c-4917-abfd-f308c53cd452",
   "metadata": {},
   "outputs": [
    {
     "name": "stdout",
     "output_type": "stream",
     "text": [
      "Dividing the data into test and train data given the 30/70 split ratio\n"
     ]
    }
   ],
   "source": [
    "#RANDOM_STATE helps to keep the data consistent -> it keeps the values consistent when you run the code again\n",
    "print('Dividing the data into test and train data given the 30/70 split ratio')\n",
    "attribute_train, attribute_test, target_train,target_test  = train_test_split(attributes, target,test_size = 0.3, random_state = 6)"
   ]
  },
  {
   "cell_type": "code",
   "execution_count": 174,
   "id": "d475727c-b252-4b3a-9e20-1a514418c13a",
   "metadata": {},
   "outputs": [],
   "source": [
    "model = CategoricalNB()\n",
    "# given your model of choice, we now train the model with our train sets which we get from above and then we predict based on our test data\n",
    "model.fit(attribute_train, target_train)\n",
    "target_pred = model.predict(attribute_test)"
   ]
  },
  {
   "cell_type": "code",
   "execution_count": 175,
   "id": "cf6e42be-a098-4566-8870-3babd8397e6e",
   "metadata": {},
   "outputs": [
    {
     "name": "stdout",
     "output_type": "stream",
     "text": [
      "Accuracy: 0.6124148372445117\n",
      "\n",
      "[[448 214]\n",
      " [298 361]]\n",
      "\n",
      "Classification Report\n",
      "              precision    recall  f1-score   support\n",
      "\n",
      "        High       0.60      0.68      0.64       662\n",
      "      Normal       0.63      0.55      0.59       659\n",
      "\n",
      "    accuracy                           0.61      1321\n",
      "   macro avg       0.61      0.61      0.61      1321\n",
      "weighted avg       0.61      0.61      0.61      1321\n",
      "\n"
     ]
    }
   ],
   "source": [
    "from sklearn.metrics import accuracy_score\n",
    "from sklearn.metrics import classification_report\n",
    "from sklearn.metrics import confusion_matrix\n",
    "# Evaluate the accuracy, and other details\n",
    "accuracy = accuracy_score(target_test, target_pred)\n",
    "print(f'Accuracy: {accuracy}')\n",
    "print()\n",
    "print(confusion_matrix(target_test, target_pred))\n",
    "print()\n",
    "print('Classification Report')\n",
    "print(classification_report(target_test, target_pred))"
   ]
  }
 ],
 "metadata": {
  "kernelspec": {
   "display_name": "Python 3 (ipykernel)",
   "language": "python",
   "name": "python3"
  },
  "language_info": {
   "codemirror_mode": {
    "name": "ipython",
    "version": 3
   },
   "file_extension": ".py",
   "mimetype": "text/x-python",
   "name": "python",
   "nbconvert_exporter": "python",
   "pygments_lexer": "ipython3",
   "version": "3.11.5"
  }
 },
 "nbformat": 4,
 "nbformat_minor": 5
}
