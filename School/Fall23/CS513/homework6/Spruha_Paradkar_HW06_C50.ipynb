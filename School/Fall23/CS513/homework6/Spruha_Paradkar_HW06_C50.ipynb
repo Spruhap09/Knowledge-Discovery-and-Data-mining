{
 "cells": [
  {
   "cell_type": "code",
   "execution_count": null,
   "id": "fa87a048-ef64-4480-a337-419528078b15",
   "metadata": {},
   "outputs": [
    {
     "ename": "",
     "evalue": "",
     "output_type": "error",
     "traceback": [
      "\u001b[1;31mThe kernel failed to start as '/Users/spruhap/Library/Python/3.9/lib/python/site-packages/psutil/_psutil_osx.abi3.so' could not be imported from '/Users/spruhap/Library/Python/3.9/lib/python/site-packages/psutil/_psutil_osx.abi3.so, 0x0002'.\n",
      "\u001b[1;31mClick <a href='https://aka.ms/kernelFailuresModuleImportErrFromFile'>here</a> for more info."
     ]
    }
   ],
   "source": [
    "#################################################\n",
    "#  Company    : Stevens Institute of Technology\n",
    "#  Project    : HW03\n",
    "#  Purpose    : To perform the classification model given the c50 methodology given the database called breast-cancer-wisconsin.data.csv\n",
    "#  First Name : Spruha\n",
    "#  Last Name  : Paradkar\n",
    "#  Id\t\t  : 10470967\n",
    "#  Date       : 11/27/2023\n",
    "#  Comments   : I pledge my honor that I have abided by the Stevens Honor System\n",
    "#################################################"
   ]
  },
  {
   "cell_type": "code",
   "execution_count": null,
   "id": "7776713f-3514-4534-b732-7ae7dd231f0a",
   "metadata": {},
   "outputs": [
    {
     "ename": "",
     "evalue": "",
     "output_type": "error",
     "traceback": [
      "\u001b[1;31mThe kernel failed to start as '/Users/spruhap/Library/Python/3.9/lib/python/site-packages/psutil/_psutil_osx.abi3.so' could not be imported from '/Users/spruhap/Library/Python/3.9/lib/python/site-packages/psutil/_psutil_osx.abi3.so, 0x0002'.\n",
      "\u001b[1;31mClick <a href='https://aka.ms/kernelFailuresModuleImportErrFromFile'>here</a> for more info."
     ]
    }
   ],
   "source": [
    "import pandas as pd\n",
    "from sklearn.model_selection import train_test_split\n",
    "from sklearn.tree import DecisionTreeClassifier\n",
    "from sklearn.metrics import confusion_matrix, classification_report\n",
    "import seaborn as sns\n",
    "import matplotlib.pyplot as plt\n",
    "from sklearn.tree import plot_tree"
   ]
  },
  {
   "cell_type": "code",
   "execution_count": null,
   "id": "06a10eaa-8a2d-4b81-b3d7-a5e5b2fb5f51",
   "metadata": {},
   "outputs": [
    {
     "ename": "",
     "evalue": "",
     "output_type": "error",
     "traceback": [
      "\u001b[1;31mThe kernel failed to start as '/Users/spruhap/Library/Python/3.9/lib/python/site-packages/psutil/_psutil_osx.abi3.so' could not be imported from '/Users/spruhap/Library/Python/3.9/lib/python/site-packages/psutil/_psutil_osx.abi3.so, 0x0002'.\n",
      "\u001b[1;31mClick <a href='https://aka.ms/kernelFailuresModuleImportErrFromFile'>here</a> for more info."
     ]
    }
   ],
   "source": [
    "print('Loading the breast cancer dataset')\n",
    "breastCancer = pd.read_csv('/Users/spruhap/Downloads/breast-cancer-wisconsin.csv')\n",
    "breastCancer.head(10)"
   ]
  },
  {
   "cell_type": "code",
   "execution_count": null,
   "id": "49af2aea-14b5-4574-b3d4-f1eac42f8a59",
   "metadata": {},
   "outputs": [
    {
     "ename": "",
     "evalue": "",
     "output_type": "error",
     "traceback": [
      "\u001b[1;31mThe kernel failed to start as '/Users/spruhap/Library/Python/3.9/lib/python/site-packages/psutil/_psutil_osx.abi3.so' could not be imported from '/Users/spruhap/Library/Python/3.9/lib/python/site-packages/psutil/_psutil_osx.abi3.so, 0x0002'.\n",
      "\u001b[1;31mClick <a href='https://aka.ms/kernelFailuresModuleImportErrFromFile'>here</a> for more info."
     ]
    }
   ],
   "source": [
    "print('The length of the database before dropping all the missing values')\n",
    "print(len(breastCancer))"
   ]
  },
  {
   "cell_type": "code",
   "execution_count": null,
   "id": "3131847d-4dd5-42c6-9a38-06571364df00",
   "metadata": {},
   "outputs": [
    {
     "ename": "",
     "evalue": "",
     "output_type": "error",
     "traceback": [
      "\u001b[1;31mThe kernel failed to start as '/Users/spruhap/Library/Python/3.9/lib/python/site-packages/psutil/_psutil_osx.abi3.so' could not be imported from '/Users/spruhap/Library/Python/3.9/lib/python/site-packages/psutil/_psutil_osx.abi3.so, 0x0002'.\n",
      "\u001b[1;31mClick <a href='https://aka.ms/kernelFailuresModuleImportErrFromFile'>here</a> for more info."
     ]
    }
   ],
   "source": [
    "breastCancer = breastCancer.drop(breastCancer.loc[breastCancer['F6']== '?'].index)\n",
    "print('The length of the database after dropping all the missing values')\n",
    "print(len(breastCancer))"
   ]
  },
  {
   "cell_type": "code",
   "execution_count": null,
   "id": "51243c16-f009-41e5-89f2-e46151fd440d",
   "metadata": {},
   "outputs": [
    {
     "ename": "",
     "evalue": "",
     "output_type": "error",
     "traceback": [
      "\u001b[1;31mThe kernel failed to start as '/Users/spruhap/Library/Python/3.9/lib/python/site-packages/psutil/_psutil_osx.abi3.so' could not be imported from '/Users/spruhap/Library/Python/3.9/lib/python/site-packages/psutil/_psutil_osx.abi3.so, 0x0002'.\n",
      "\u001b[1;31mClick <a href='https://aka.ms/kernelFailuresModuleImportErrFromFile'>here</a> for more info."
     ]
    }
   ],
   "source": [
    "print('Dropping the Class field')\n",
    "# Splitting the dataset\n",
    "attributes = breastCancer.drop(columns = ['Class', 'Sample'])\n",
    "attributes.head(10)"
   ]
  },
  {
   "cell_type": "code",
   "execution_count": null,
   "id": "20ea5508-7fcb-4547-a5e8-4bb1b92f39cb",
   "metadata": {},
   "outputs": [
    {
     "ename": "",
     "evalue": "",
     "output_type": "error",
     "traceback": [
      "\u001b[1;31mThe kernel failed to start as '/Users/spruhap/Library/Python/3.9/lib/python/site-packages/psutil/_psutil_osx.abi3.so' could not be imported from '/Users/spruhap/Library/Python/3.9/lib/python/site-packages/psutil/_psutil_osx.abi3.so, 0x0002'.\n",
      "\u001b[1;31mClick <a href='https://aka.ms/kernelFailuresModuleImportErrFromFile'>here</a> for more info."
     ]
    }
   ],
   "source": [
    "print('Creating a data frame called target for the Class variable')\n",
    "target = breastCancer['Class'] # target variable\n",
    "target.head(10)"
   ]
  },
  {
   "cell_type": "code",
   "execution_count": null,
   "id": "121dd711-297a-4e24-afa1-0ea55a125986",
   "metadata": {},
   "outputs": [
    {
     "ename": "",
     "evalue": "",
     "output_type": "error",
     "traceback": [
      "\u001b[1;31mThe kernel failed to start as '/Users/spruhap/Library/Python/3.9/lib/python/site-packages/psutil/_psutil_osx.abi3.so' could not be imported from '/Users/spruhap/Library/Python/3.9/lib/python/site-packages/psutil/_psutil_osx.abi3.so, 0x0002'.\n",
      "\u001b[1;31mClick <a href='https://aka.ms/kernelFailuresModuleImportErrFromFile'>here</a> for more info."
     ]
    }
   ],
   "source": [
    "#RANDOM_STATE helps to keep the data consistent -> it keeps the values consistent when you run the code again\n",
    "print('Dividing the data into test and train data given the 30/70 split ratio')\n",
    "attribute_train, attribute_test, target_train,target_test  = train_test_split(attributes, target,test_size = 0.3, random_state = 87, shuffle = True)"
   ]
  },
  {
   "cell_type": "code",
   "execution_count": null,
   "id": "881907ac-81a2-464f-95d9-0e94430e1786",
   "metadata": {},
   "outputs": [
    {
     "ename": "",
     "evalue": "",
     "output_type": "error",
     "traceback": [
      "\u001b[1;31mThe kernel failed to start as '/Users/spruhap/Library/Python/3.9/lib/python/site-packages/psutil/_psutil_osx.abi3.so' could not be imported from '/Users/spruhap/Library/Python/3.9/lib/python/site-packages/psutil/_psutil_osx.abi3.so, 0x0002'.\n",
      "\u001b[1;31mClick <a href='https://aka.ms/kernelFailuresModuleImportErrFromFile'>here</a> for more info."
     ]
    }
   ],
   "source": [
    "from sklearn.tree import DecisionTreeClassifier\n",
    "model = DecisionTreeClassifier(criterion='entropy', max_depth=3,splitter='best',max_leaf_nodes=5)"
   ]
  },
  {
   "cell_type": "code",
   "execution_count": null,
   "id": "2274eb2f-173d-410b-9dd3-cc150938556d",
   "metadata": {},
   "outputs": [
    {
     "ename": "",
     "evalue": "",
     "output_type": "error",
     "traceback": [
      "\u001b[1;31mThe kernel failed to start as '/Users/spruhap/Library/Python/3.9/lib/python/site-packages/psutil/_psutil_osx.abi3.so' could not be imported from '/Users/spruhap/Library/Python/3.9/lib/python/site-packages/psutil/_psutil_osx.abi3.so, 0x0002'.\n",
      "\u001b[1;31mClick <a href='https://aka.ms/kernelFailuresModuleImportErrFromFile'>here</a> for more info."
     ]
    }
   ],
   "source": [
    "model.fit(attribute_train,target_train)\n",
    "target_pred = model.predict(attribute_test)"
   ]
  },
  {
   "cell_type": "code",
   "execution_count": null,
   "id": "1c1929d9-e100-4a02-a308-138e43d9cc61",
   "metadata": {},
   "outputs": [
    {
     "ename": "",
     "evalue": "",
     "output_type": "error",
     "traceback": [
      "\u001b[1;31mThe kernel failed to start as '/Users/spruhap/Library/Python/3.9/lib/python/site-packages/psutil/_psutil_osx.abi3.so' could not be imported from '/Users/spruhap/Library/Python/3.9/lib/python/site-packages/psutil/_psutil_osx.abi3.so, 0x0002'.\n",
      "\u001b[1;31mClick <a href='https://aka.ms/kernelFailuresModuleImportErrFromFile'>here</a> for more info."
     ]
    }
   ],
   "source": [
    "from sklearn.metrics import confusion_matrix, classification_report, accuracy_score\n",
    "print(f\"\\n Accuracy: {accuracy_score(target_test,target_pred)}  \")\n",
    "print(f\"\\n Confusion Matrix:\") \n",
    "print(confusion_matrix(target_test,target_pred))\n",
    "print(f\"\\n Classification Report:\")\n",
    "print(classification_report(target_test,target_pred))"
   ]
  },
  {
   "cell_type": "code",
   "execution_count": null,
   "id": "4b438620-b464-49ef-993d-0a81bb6f1b00",
   "metadata": {},
   "outputs": [
    {
     "ename": "",
     "evalue": "",
     "output_type": "error",
     "traceback": [
      "\u001b[1;31mThe kernel failed to start as '/Users/spruhap/Library/Python/3.9/lib/python/site-packages/psutil/_psutil_osx.abi3.so' could not be imported from '/Users/spruhap/Library/Python/3.9/lib/python/site-packages/psutil/_psutil_osx.abi3.so, 0x0002'.\n",
      "\u001b[1;31mClick <a href='https://aka.ms/kernelFailuresModuleImportErrFromFile'>here</a> for more info."
     ]
    }
   ],
   "source": [
    "import matplotlib.pyplot as plt\n",
    "from sklearn.tree import plot_tree\n",
    "\n",
    "plt.figure(figsize=(50,30), dpi=250)\n",
    "plot_tree(model,fontsize=20,filled=True,feature_names=attributes.columns)"
   ]
  }
 ],
 "metadata": {
  "kernelspec": {
   "display_name": "Python 3 (ipykernel)",
   "language": "python",
   "name": "python3"
  },
  "language_info": {
   "codemirror_mode": {
    "name": "ipython",
    "version": 3
   },
   "file_extension": ".py",
   "mimetype": "text/x-python",
   "name": "python",
   "nbconvert_exporter": "python",
   "pygments_lexer": "ipython3",
   "version": "3.9.6"
  }
 },
 "nbformat": 4,
 "nbformat_minor": 5
}
